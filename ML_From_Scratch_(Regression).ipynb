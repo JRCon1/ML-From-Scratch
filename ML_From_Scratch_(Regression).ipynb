{
  "nbformat": 4,
  "nbformat_minor": 0,
  "metadata": {
    "colab": {
      "provenance": [],
      "authorship_tag": "ABX9TyMHhIkt6iTOsDCVeRRNjLdM",
      "include_colab_link": true
    },
    "kernelspec": {
      "name": "python3",
      "display_name": "Python 3"
    },
    "language_info": {
      "name": "python"
    }
  },
  "cells": [
    {
      "cell_type": "markdown",
      "metadata": {
        "id": "view-in-github",
        "colab_type": "text"
      },
      "source": [
        "<a href=\"https://colab.research.google.com/github/JRCon1/ML-From-Scratch/blob/main/ML_From_Scratch_(Regression).ipynb\" target=\"_parent\"><img src=\"https://colab.research.google.com/assets/colab-badge.svg\" alt=\"Open In Colab\"/></a>"
      ]
    },
    {
      "cell_type": "code",
      "execution_count": 3,
      "metadata": {
        "id": "zBskSOsy9yIq",
        "colab": {
          "base_uri": "https://localhost:8080/"
        },
        "outputId": "6674ce86-9da3-4ebb-943a-205935f7a582"
      },
      "outputs": [
        {
          "output_type": "stream",
          "name": "stdout",
          "text": [
            "Beta0 (Intercept): 42.5\n",
            "Beta1 (Slope): 7.0\n",
            "Predicted Values: [49.5, 56.5, 70.5, 63.5]\n",
            "SSE: 5.0\n",
            "R-squared: 0.98\n",
            "MSE: 1.25\n",
            "RMSE: 1.118033988749895\n"
          ]
        }
      ],
      "source": [
        "# Ordinary Least Squares Regression\n",
        "\n",
        "# Define x and y variables\n",
        "x = [1, 2, 4, 3]\n",
        "y = [50, 55, 70, 65]\n",
        "\n",
        "# Define x^2, y^2, and xy\n",
        "x2 = [i ** 2 for i in x]\n",
        "y2 = [i ** 2 for i in y]\n",
        "xy = [x[i] * y[i] for i in range(len(x))]\n",
        "\n",
        "# Define length of vector and y_mean (y bar)\n",
        "n = len(x)\n",
        "y_mean = sum(y) / n\n",
        "\n",
        "# Calculate Betas\n",
        "beta1 = (n * sum(xy) - sum(x) * sum(y)) / (n * sum(x2) - sum(x) ** 2)\n",
        "beta0 = (sum(y) - beta1 * sum(x)) / n\n",
        "\n",
        "# Generate predicted values\n",
        "y_pred = [beta0 + beta1 * i for i in x]\n",
        "\n",
        "# Calculate SSE and SST\n",
        "sse = sum((y[i] - y_pred[i]) ** 2 for i in range(n))\n",
        "sst = sum((yi - y_mean)**2 for yi in y)\n",
        "\n",
        "# Calculate r-squared\n",
        "r2 = 1 - (sse/sst)\n",
        "\n",
        "# Calculate MSE & RMSE\n",
        "mse = sse * (1/n)\n",
        "rmse = mse ** 0.5\\\n",
        "\n",
        "# Print results for OLS\n",
        "print(f\"Beta0 (Intercept): {beta0}\")\n",
        "print(f\"Beta1 (Slope): {beta1}\")\n",
        "print(f\"Predicted Values: {y_pred}\")\n",
        "print(f\"SSE: {sse}\")\n",
        "print(f\"R-squared: {r2}\")\n",
        "print(f\"MSE: {mse}\")\n",
        "print(f\"RMSE: {rmse}\")"
      ]
    },
    {
      "cell_type": "code",
      "source": [
        "# Ridge Regression\n",
        "\n",
        "# Define x and y variables\n",
        "x = [1, 2, 4, 3]\n",
        "y = [50, 55, 70, 65]\n",
        "\n",
        "# Define x^2, y^2, and xy\n",
        "x2 = [i ** 2 for i in x]\n",
        "y2 = [i ** 2 for i in y]\n",
        "xy = [x[i] * y[i] for i in range(len(x))]\n",
        "\n",
        "# Define length of vector and y_mean (y bar)\n",
        "n = len(x)\n",
        "y_mean = sum(y) / n\n",
        "\n",
        "# Define Lambda\n",
        "lamb = 0.5\n",
        "\n",
        "# Calculate Betas\n",
        "beta1 = (n * sum(xy) - sum(x) * sum(y)) / (n * sum(x2) - sum(x) ** 2) + lamb\n",
        "beta0 = (sum(y) - beta1 * sum(x)) / n\n",
        "\n",
        "# Generate predicted values\n",
        "y_pred = [beta0 + beta1 * i for i in x]\n",
        "\n",
        "# Calculate SSE and SST\n",
        "sse = sum((y[i] - y_pred[i]) ** 2 for i in range(n))\n",
        "sst = sum((yi - y_mean)**2 for yi in y)\n",
        "\n",
        "# Calculate r-squared\n",
        "r2 = 1 - (sse/sst)\n",
        "\n",
        "# Calculate MSE & RMSE\n",
        "mse = sse * (1/n)\n",
        "rmse = mse ** 0.5\n",
        "\n",
        "# Print results for lasso\n",
        "print(f\"Beta0 (Intercept): {beta0}\")\n",
        "print(f\"Beta1 (Slope): {beta1}\")\n",
        "print(f\"Predicted Values: {y_pred}\")\n",
        "print(f\"SSE: {sse}\")\n",
        "print(f\"R-squared: {r2}\")\n",
        "print(f\"MSE: {mse}\")\n",
        "print(f\"RMSE: {rmse}\")"
      ],
      "metadata": {
        "id": "dfCCLUeuEdmt",
        "colab": {
          "base_uri": "https://localhost:8080/"
        },
        "outputId": "52eca6fe-3aa5-43dd-ad01-c7cc97cdc13e"
      },
      "execution_count": 2,
      "outputs": [
        {
          "output_type": "stream",
          "name": "stdout",
          "text": [
            "Beta0 (Intercept): 41.25\n",
            "Beta1 (Slope): 7.5\n",
            "Predicted Values: [48.75, 56.25, 71.25, 63.75]\n",
            "SSE: 6.25\n",
            "R-squared: 0.975\n",
            "MSE: 1.5625\n",
            "RMSE: 1.25\n"
          ]
        }
      ]
    },
    {
      "cell_type": "code",
      "source": [
        "# Lasso Regression Implementation\n",
        "\n",
        "# Define x and y variables\n",
        "x = [1, 2, 4, 3]\n",
        "y = [50, 55, 70, 65]\n",
        "\n",
        "# Define x^2, y^2, and xy\n",
        "x2 = [i ** 2 for i in x]\n",
        "xy = [x[i] * y[i] for i in range(len(x))]\n",
        "\n",
        "# Define length of vector and y_mean (y bar)\n",
        "n = len(x)\n",
        "y_mean = sum(y) / n\n",
        "\n",
        "# Define lambda\n",
        "lambda_lasso = 1.0\n",
        "\n",
        "# Initial guesses for beta0 and beta1\n",
        "beta0_lasso = y_mean\n",
        "beta1_lasso = (n * sum(xy) - sum(x) * sum(y)) / (n * sum(x2) - sum(x) ** 2)\n",
        "\n",
        "# Coordinate descent for Lasso\n",
        "# For a single predictor, we iteratively update beta0 and beta1\n",
        "iterations = 100  # Number of iterations\n",
        "for _ in range(iterations):\n",
        "    beta0_lasso = sum(y[i] - beta1_lasso * x[i] for i in range(n)) / n\n",
        "    numerator = sum(x[i] * (y[i] - beta0_lasso) for i in range(n))\n",
        "    denominator = sum(x2)\n",
        "    # Soft-thresholding for L1 penalty\n",
        "    if numerator > lambda_lasso / 2:\n",
        "        beta1_lasso = (numerator - lambda_lasso / 2) / denominator\n",
        "    elif numerator < -lambda_lasso / 2:\n",
        "        beta1_lasso = (numerator + lambda_lasso / 2) / denominator\n",
        "    else:\n",
        "        beta1_lasso = 0\n",
        "\n",
        "# Generate predicted values for lasso\n",
        "y_pred_lasso = [beta0_lasso + beta1_lasso * i for i in x]\n",
        "\n",
        "# Calculate SSE and SST for lasso\n",
        "sse_lasso = sum((y[i] - y_pred_lasso[i]) ** 2 for i in range(n))\n",
        "sst = sum((yi - y_mean) ** 2 for yi in y)\n",
        "\n",
        "# Calculate r-squared for lasso\n",
        "r2_lasso = 1 - (sse_lasso / sst)\n",
        "\n",
        "# Calculate MSE & RMSE for lasso\n",
        "mse_lasso = sse_lasso * (1 / n)\n",
        "rmse_lasso = mse_lasso ** 0.5\n",
        "\n",
        "# Print results for lasso\n",
        "print(\"Lasso Results (lambda = {lambda_lasso}):\")\n",
        "print(f\"Beta0 (Intercept): {beta0_lasso}\")\n",
        "print(f\"Beta1 (Slope): {beta1_lasso}\")\n",
        "print(f\"Predicted Values: {y_pred_lasso}\")\n",
        "print(f\"SSE: {sse_lasso}\")\n",
        "print(f\"R-squared: {r2_lasso}\")\n",
        "print(f\"MSE: {mse_lasso}\")\n",
        "print(f\"RMSE: {rmse_lasso}\")"
      ],
      "metadata": {
        "colab": {
          "base_uri": "https://localhost:8080/"
        },
        "id": "ZzwsaoRFMZs8",
        "outputId": "e846a88d-d59f-499c-dab3-4175a783ef1a"
      },
      "execution_count": null,
      "outputs": [
        {
          "output_type": "stream",
          "name": "stdout",
          "text": [
            "Lasso Results (lambda = {lambda_lasso}):\n",
            "Beta0 (Intercept): 42.749999996377596\n",
            "Beta1 (Slope): 6.900000001207468\n",
            "Predicted Values: [49.64999999758506, 56.54999999879253, 70.35000000120746, 63.45]\n",
            "SSE: 5.0499999987925115\n",
            "R-squared: 0.9798000000048299\n",
            "MSE: 1.2624999996981279\n",
            "RMSE: 1.1236102525778802\n"
          ]
        }
      ]
    }
  ]
}