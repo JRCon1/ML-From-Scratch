{
  "nbformat": 4,
  "nbformat_minor": 0,
  "metadata": {
    "colab": {
      "provenance": [],
      "authorship_tag": "ABX9TyPMD/JBgH0ot5/AW13bvBxi",
      "include_colab_link": true
    },
    "kernelspec": {
      "name": "python3",
      "display_name": "Python 3"
    },
    "language_info": {
      "name": "python"
    }
  },
  "cells": [
    {
      "cell_type": "markdown",
      "metadata": {
        "id": "view-in-github",
        "colab_type": "text"
      },
      "source": [
        "<a href=\"https://colab.research.google.com/github/JRCon1/ML-From-Scratch/blob/main/Titanic_Decision_Tree.ipynb\" target=\"_parent\"><img src=\"https://colab.research.google.com/assets/colab-badge.svg\" alt=\"Open In Colab\"/></a>"
      ]
    },
    {
      "cell_type": "code",
      "source": [
        "from seaborn import load_dataset\n",
        "from sklearn.tree import DecisionTreeClassifier\n",
        "from sklearn.metrics import accuracy_score, precision_score, recall_score, f1_score, confusion_matrix\n",
        "\n",
        "data = load_dataset(\"titanic\")[['pclass', 'age', 'fare', 'survived', 'sex']].dropna()\n",
        "\n",
        "X = data[['pclass', 'age', 'fare', 'sex']].copy()\n",
        "X['sex'] = X['sex'].map({'male': 1, 'female': 0})\n",
        "y = data['survived']\n",
        "\n",
        "cut = int(0.7 * len(data))\n",
        "X_train, X_test = X.iloc[:cut], X.iloc[cut:]\n",
        "y_train, y_test = y.iloc[:cut], y.iloc[cut:]\n",
        "\n",
        "tree = DecisionTreeClassifier(\n",
        "    max_depth=4,\n",
        "    min_samples_leaf=10,\n",
        "    random_state=42\n",
        ")\n",
        "tree.fit(X_train, y_train)\n",
        "preds = tree.predict(X_test)\n",
        "print(\"\\nDecision-tree metrics on test set:\")\n",
        "print(\"  Accuracy :\", accuracy_score(y_test, preds))\n",
        "print(\"  Precision:\", precision_score(y_test, preds))\n",
        "print(\"  Recall   :\", recall_score(y_test, preds))\n",
        "print(\"  F1 score :\", f1_score(y_test, preds))\n",
        "print(\"  Confusion matrix:\\n\", confusion_matrix(y_test, preds))\n",
        "\n",
        "for name, imp in zip(X.columns, tree.feature_importances_):\n",
        "    print(f\"{name:6s}: {imp: .3f}\")"
      ],
      "metadata": {
        "colab": {
          "base_uri": "https://localhost:8080/"
        },
        "id": "uiqaxw3Xk3Wq",
        "outputId": "a7a4ed10-f515-48b7-faa1-cc05fab78cf8"
      },
      "execution_count": 3,
      "outputs": [
        {
          "output_type": "stream",
          "name": "stdout",
          "text": [
            "\n",
            "Decision-tree metrics on test set:\n",
            "  Accuracy : 0.813953488372093\n",
            "  Precision: 0.8307692307692308\n",
            "  Recall   : 0.6506024096385542\n",
            "  F1 score : 0.7297297297297297\n",
            "  Confusion matrix:\n",
            " [[121  11]\n",
            " [ 29  54]]\n",
            "pclass:  0.207\n",
            "age   :  0.108\n",
            "fare  :  0.053\n",
            "sex   :  0.632\n"
          ]
        }
      ]
    },
    {
      "cell_type": "code",
      "source": [
        "from sklearn.tree import export_graphviz\n",
        "import graphviz\n",
        "\n",
        "dot_data = export_graphviz(tree, out_file=None,\n",
        "                           feature_names=X.columns,\n",
        "                           class_names=['Died', 'Survived'],\n",
        "                           filled=True, rounded=True,\n",
        "                           special_characters=True)\n",
        "\n",
        "graph = graphviz.Source(dot_data)\n",
        "graph.render(\"titanic_tree\", format='png', cleanup=False)\n",
        "graph.view()"
      ],
      "metadata": {
        "colab": {
          "base_uri": "https://localhost:8080/",
          "height": 36
        },
        "id": "sMcvi059nmde",
        "outputId": "268ef647-94ba-4b97-df58-19ac95fa6b11"
      },
      "execution_count": 4,
      "outputs": [
        {
          "output_type": "execute_result",
          "data": {
            "text/plain": [
              "'titanic_tree.pdf'"
            ],
            "application/vnd.google.colaboratory.intrinsic+json": {
              "type": "string"
            }
          },
          "metadata": {},
          "execution_count": 4
        }
      ]
    }
  ]
}