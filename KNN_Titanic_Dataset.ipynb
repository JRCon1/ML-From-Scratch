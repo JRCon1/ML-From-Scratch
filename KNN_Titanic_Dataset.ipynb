{
  "nbformat": 4,
  "nbformat_minor": 0,
  "metadata": {
    "colab": {
      "provenance": [],
      "authorship_tag": "ABX9TyOvmPoKYiD/kppA9bY6p1JI",
      "include_colab_link": true
    },
    "kernelspec": {
      "name": "python3",
      "display_name": "Python 3"
    },
    "language_info": {
      "name": "python"
    }
  },
  "cells": [
    {
      "cell_type": "markdown",
      "metadata": {
        "id": "view-in-github",
        "colab_type": "text"
      },
      "source": [
        "<a href=\"https://colab.research.google.com/github/JRCon1/ML-From-Scratch/blob/main/KNN_Titanic_Dataset.ipynb\" target=\"_parent\"><img src=\"https://colab.research.google.com/assets/colab-badge.svg\" alt=\"Open In Colab\"/></a>"
      ]
    },
    {
      "cell_type": "code",
      "execution_count": 1,
      "metadata": {
        "colab": {
          "base_uri": "https://localhost:8080/"
        },
        "id": "bthczf58SmO5",
        "outputId": "880a7138-23e5-41e1-a73e-240f7cf4e530"
      },
      "outputs": [
        {
          "output_type": "stream",
          "name": "stdout",
          "text": [
            "KNN metrics on test set\n",
            "  Accuracy : 0.8046511627906977\n",
            "  Precision: 0.759493670886076\n",
            "  Recall   : 0.7228915662650602\n",
            "  F1 score : 0.7407407407407407\n",
            "  Confusion matrix:\n",
            " [[113  19]\n",
            " [ 23  60]]\n"
          ]
        }
      ],
      "source": [
        "from seaborn import load_dataset\n",
        "from sklearn.preprocessing import StandardScaler\n",
        "from sklearn.neighbors import KNeighborsClassifier\n",
        "from sklearn.metrics import accuracy_score, precision_score, recall_score, f1_score, confusion_matrix\n",
        "from sklearn.pipeline import make_pipeline\n",
        "\n",
        "# ── data prep ─────────────────────────────────────────────────────────\n",
        "data = load_dataset(\"titanic\")[['pclass', 'age', 'fare', 'survived', 'sex']].dropna()\n",
        "X = data[['pclass', 'age', 'fare', 'sex']].copy()\n",
        "X['sex'] = X['sex'].map({'male': 1, 'female': 0})\n",
        "y = data['survived']\n",
        "\n",
        "cut = int(0.7 * len(data))\n",
        "X_train, X_test = X.iloc[:cut], X.iloc[cut:]\n",
        "y_train, y_test = y.iloc[:cut], y.iloc[cut:]\n",
        "\n",
        "# ── KNN model ─────────────────────────────────────\n",
        "knn = make_pipeline(\n",
        "        StandardScaler(),\n",
        "        KNeighborsClassifier(n_neighbors=5, weights='uniform')\n",
        "      )\n",
        "\n",
        "knn.fit(X_train, y_train)\n",
        "\n",
        "preds = knn.predict(X_test)\n",
        "print(\"KNN metrics on test set\")\n",
        "print(\"  Accuracy :\", accuracy_score(y_test, preds))\n",
        "print(\"  Precision:\", precision_score(y_test, preds))\n",
        "print(\"  Recall   :\", recall_score(y_test, preds))\n",
        "print(\"  F1 score :\", f1_score(y_test, preds))\n",
        "print(\"  Confusion matrix:\\n\", confusion_matrix(y_test, preds))"
      ]
    }
  ]
}