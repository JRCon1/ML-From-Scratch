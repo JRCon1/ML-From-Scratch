{
  "nbformat": 4,
  "nbformat_minor": 0,
  "metadata": {
    "colab": {
      "provenance": [],
      "authorship_tag": "ABX9TyOlepsCqkCZEIAzYhYHG4G/",
      "include_colab_link": true
    },
    "kernelspec": {
      "name": "python3",
      "display_name": "Python 3"
    },
    "language_info": {
      "name": "python"
    }
  },
  "cells": [
    {
      "cell_type": "markdown",
      "metadata": {
        "id": "view-in-github",
        "colab_type": "text"
      },
      "source": [
        "<a href=\"https://colab.research.google.com/github/JRCon1/ML-From-Scratch/blob/main/Predict_Titanic_Survivors_with_Logistic_Regression.ipynb\" target=\"_parent\"><img src=\"https://colab.research.google.com/assets/colab-badge.svg\" alt=\"Open In Colab\"/></a>"
      ]
    },
    {
      "cell_type": "code",
      "execution_count": 2,
      "metadata": {
        "colab": {
          "base_uri": "https://localhost:8080/"
        },
        "id": "RM-bLdUTRaV6",
        "outputId": "5981aeab-a713-4b4f-a287-4dc0a481eb51"
      },
      "outputs": [
        {
          "output_type": "stream",
          "name": "stdout",
          "text": [
            "\n",
            "Logistic metrics on test set:\n",
            "  Accuracy : 0.8046511627906977\n",
            "  Precision: 0.7662337662337663\n",
            "  Recall   : 0.7108433734939759\n",
            "  F1 score : 0.7375\n",
            "  Confusion matrix:\n",
            " [[114  18]\n",
            " [ 24  59]]\n"
          ]
        }
      ],
      "source": [
        "from seaborn import load_dataset\n",
        "from sklearn.linear_model import LinearRegression, LogisticRegression\n",
        "from sklearn.metrics import accuracy_score, precision_score, recall_score, f1_score, confusion_matrix\n",
        "\n",
        "# --- data prep ----------------------------------------------------------\n",
        "data = load_dataset(\"titanic\")[['pclass', 'age', 'fare', 'survived', 'sex']].dropna()\n",
        "features = data[['pclass', 'age', 'fare', 'sex']].copy()\n",
        "features['sex'] = features['sex'].map({'male': 1, 'female': 0})\n",
        "label = data['survived']\n",
        "\n",
        "cut = int(0.7 * len(data))\n",
        "X_train, X_test = features.iloc[:cut].values.tolist(), features.iloc[cut:].values.tolist()\n",
        "y_train, y_test = label.iloc[:cut].tolist(), label.iloc[cut:].tolist()\n",
        "\n",
        "# --- logistic regression (classification) ------------------------------\n",
        "log_model = LogisticRegression(max_iter=1000)\n",
        "log_model.fit(X_train, y_train)\n",
        "\n",
        "y_pred = log_model.predict(X_test)\n",
        "print(\"\\nLogistic metrics on test set:\")\n",
        "print(\"  Accuracy :\", accuracy_score(y_test, y_pred))\n",
        "print(\"  Precision:\", precision_score(y_test, y_pred))\n",
        "print(\"  Recall   :\", recall_score(y_test, y_pred))\n",
        "print(\"  F1 score :\", f1_score(y_test, y_pred))\n",
        "print(\"  Confusion matrix:\\n\", confusion_matrix(y_test, y_pred))"
      ]
    }
  ]
}